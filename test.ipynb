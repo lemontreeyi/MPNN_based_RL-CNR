{
 "cells": [
  {
   "cell_type": "code",
   "execution_count": 1,
   "metadata": {},
   "outputs": [
    {
     "data": {
      "text/plain": [
       "(tensor([[ 6,  4, 10, 12],\n",
       "         [ 6,  3, 10, 12]]),\n",
       " tensor([[ 6,  4, 10, 12],\n",
       "         [ 6,  3, 10, 12]]))"
      ]
     },
     "execution_count": 1,
     "metadata": {},
     "output_type": "execute_result"
    },
    {
     "ename": "",
     "evalue": "",
     "output_type": "error",
     "traceback": [
      "\u001B[1;31m在当前单元格或上一个单元格中执行代码时 Kernel 崩溃。\n",
      "\u001B[1;31m请查看单元格中的代码，以确定故障的可能原因。\n",
      "\u001B[1;31m单击<a href='https://aka.ms/vscodeJupyterKernelCrash'>此处</a>了解详细信息。\n",
      "\u001B[1;31m有关更多详细信息，请查看 Jupyter <a href='command:jupyter.viewOutput'>log</a>。"
     ]
    }
   ],
   "source": [
    "import torch\n",
    "from torch_scatter import segment_sum_coo, scatter_add\n",
    "\n",
    "m = torch.tensor([\n",
    "    [1,2,3,4],\n",
    "    [5,1,7,8],\n",
    "    [1,2,3,4],\n",
    "    [5,2,7,8],\n",
    "])\n",
    "m2 = torch.tensor([1,2,3,4])\n",
    "num_edges = 2\n",
    "M = torch.zeros(num_edges, 4)\n",
    "neighbours_id = torch.tensor([0, 1,1,0])\n",
    "M = segment_sum_coo(m, neighbours_id, dim_size=num_edges)\n",
    "M2 = scatter_add(m, neighbours_id, dim=0)\n",
    "M, M2\n"
   ]
  },
  {
   "cell_type": "code",
   "execution_count": 12,
   "metadata": {},
   "outputs": [
    {
     "data": {
      "text/plain": [
       "tensor([[-1.5921e+00, -8.7425e-01,  1.3771e+00,  ...,  8.5527e-01,\n",
       "          2.9093e+00, -4.6996e-01],\n",
       "        [ 1.3092e+00,  1.3722e+00, -3.7498e-01,  ..., -7.1865e-01,\n",
       "         -3.8048e-01,  3.0595e-01],\n",
       "        [-5.1927e-01,  1.9389e-01,  4.5347e-01,  ..., -6.8693e-01,\n",
       "          7.4255e-01, -7.4074e-01],\n",
       "        ...,\n",
       "        [ 6.5004e-02, -1.7380e+00,  1.9732e+00,  ..., -5.9615e-01,\n",
       "         -1.0426e-01,  3.0060e-03],\n",
       "        [-6.8694e-01, -1.7107e+00,  9.2123e-01,  ..., -7.4512e-01,\n",
       "         -6.9263e-02, -4.8492e-05],\n",
       "        [-5.2986e-01,  3.3781e-01, -3.5487e-02,  ..., -1.3438e+00,\n",
       "          2.8531e-01, -1.2031e-01]])"
      ]
     },
     "execution_count": 12,
     "metadata": {},
     "output_type": "execute_result"
    }
   ],
   "source": [
    "m = torch.randn(84, 20)\n",
    "m"
   ]
  },
  {
   "cell_type": "code",
   "execution_count": 22,
   "metadata": {},
   "outputs": [
    {
     "data": {
      "text/plain": [
       "tensor([0, 0, 0, 0, 0, 0, 0, 0, 0, 0, 0, 0, 0, 0, 0, 0, 0, 0, 0, 0, 0, 1, 1, 1,\n",
       "        1, 1, 1, 1, 1, 1, 1, 1, 1, 1, 1, 1, 1, 1, 1, 1, 1, 1, 2, 2, 2, 2, 2, 2,\n",
       "        2, 2, 2, 2, 2, 2, 2, 2, 2, 2, 2, 2, 2, 2, 2, 3, 3, 3, 3, 3, 3, 3, 3, 3,\n",
       "        3, 3, 3, 3, 3, 3, 3, 3, 3, 3, 3, 3])"
      ]
     },
     "execution_count": 22,
     "metadata": {},
     "output_type": "execute_result"
    }
   ],
   "source": [
    "id = torch.tensor(\n",
    "    [0] * 21 + [1] * 21 + [2] * 21 + [3] * 21\n",
    ")\n",
    "id"
   ]
  },
  {
   "cell_type": "code",
   "execution_count": 28,
   "metadata": {},
   "outputs": [
    {
     "data": {
      "text/plain": [
       "(tensor([[-4.3014, -2.8717, -7.9633, -2.6829,  2.1359,  2.9311, -6.9749,  0.5228,\n",
       "           3.0825, -0.9202,  3.8353,  4.9282,  1.0350,  4.9087,  0.8907,  2.7498,\n",
       "           0.6595, -6.0511,  1.9218, -1.9623],\n",
       "         [ 1.0718,  8.1395, -0.1450, -9.8817,  1.9251,  6.7179, -5.1759,  0.8303,\n",
       "           2.7709,  4.3140, -2.4930, -4.5192,  6.6215,  5.4317, -5.9036, -8.1799,\n",
       "          -0.5017, -1.2716,  2.3459,  1.1630],\n",
       "         [-0.5160, -2.3502,  2.4410,  8.2419,  0.1245, -0.0914, -4.1413,  6.6617,\n",
       "          -3.7516,  1.3575,  3.0944,  0.0844,  0.0474,  0.8953, -3.6463, -8.2948,\n",
       "           0.8873, -4.9363,  6.0158,  2.0046],\n",
       "         [ 8.8402, -1.4754,  4.7718, -4.3561,  0.6216, -3.8176,  5.8593, -2.6281,\n",
       "           0.5470,  0.0342,  0.5431,  0.9925,  4.2268,  1.9970, -5.1925,  3.1243,\n",
       "          -0.4445, -2.0141, -0.4896, 13.1812]]),\n",
       " torch.Size([4, 20]))"
      ]
     },
     "execution_count": 28,
     "metadata": {},
     "output_type": "execute_result"
    }
   ],
   "source": [
    "out = scatter_add(m, id, dim=0)\n",
    "out, out.shape"
   ]
  },
  {
   "cell_type": "code",
   "execution_count": 29,
   "metadata": {},
   "outputs": [
    {
     "data": {
      "text/plain": [
       "tensor([  5.0947,   1.4422,  -0.8955,  -8.6788,   4.8070,   5.7400, -10.4328,\n",
       "          5.3867,   2.6487,   4.7854,   4.9798,   1.4859,  11.9306,  13.2327,\n",
       "        -13.8517, -10.6005,   0.6006, -14.2732,   9.7940,  14.3864])"
      ]
     },
     "execution_count": 29,
     "metadata": {},
     "output_type": "execute_result"
    }
   ],
   "source": [
    "out = torch.sum(out, dim=0)\n",
    "out"
   ]
  },
  {
   "cell_type": "code",
   "execution_count": 1,
   "metadata": {},
   "outputs": [],
   "source": [
    "import torch"
   ]
  },
  {
   "cell_type": "code",
   "execution_count": 3,
   "metadata": {},
   "outputs": [
    {
     "data": {
      "text/plain": [
       "torch.Size([10, 7])"
      ]
     },
     "execution_count": 3,
     "metadata": {},
     "output_type": "execute_result"
    }
   ],
   "source": [
    "a = torch.randn(10, 3)\n",
    "b = torch.randn(10, 4)\n",
    "torch.cat([a,b], dim=1).shape"
   ]
  },
  {
   "cell_type": "code",
   "metadata": {
    "ExecuteTime": {
     "end_time": "2024-04-28T12:02:15.925922Z",
     "start_time": "2024-04-28T12:02:11.376339Z"
    }
   },
   "source": [
    "import torch\n",
    "from torch.distributions import Categorical"
   ],
   "outputs": [],
   "execution_count": 1
  },
  {
   "cell_type": "code",
   "metadata": {
    "ExecuteTime": {
     "end_time": "2024-04-28T12:02:18.756992Z",
     "start_time": "2024-04-28T12:02:18.741475Z"
    }
   },
   "source": [
    "r = torch.Tensor([\n",
    "    [0.1],\n",
    "    [0.2],\n",
    "    [0.4],\n",
    "    [0.3],\n",
    "])\n"
   ],
   "outputs": [],
   "execution_count": 2
  },
  {
   "cell_type": "code",
   "metadata": {
    "ExecuteTime": {
     "end_time": "2024-04-28T12:02:22.245956Z",
     "start_time": "2024-04-28T12:02:22.220958Z"
    }
   },
   "source": [
    "r = r.flatten()\n",
    "dist = Categorical(r)\n",
    "dist"
   ],
   "outputs": [
    {
     "data": {
      "text/plain": [
       "Categorical(probs: torch.Size([4]))"
      ]
     },
     "execution_count": 3,
     "metadata": {},
     "output_type": "execute_result"
    }
   ],
   "execution_count": 3
  },
  {
   "cell_type": "code",
   "metadata": {
    "ExecuteTime": {
     "end_time": "2024-04-28T12:21:19.396501Z",
     "start_time": "2024-04-28T12:21:19.369626Z"
    }
   },
   "source": [
    "dist.log_prob(torch.tensor(0))"
   ],
   "outputs": [
    {
     "data": {
      "text/plain": [
       "tensor(-2.3026)"
      ]
     },
     "execution_count": 4,
     "metadata": {},
     "output_type": "execute_result"
    }
   ],
   "execution_count": 4
  },
  {
   "cell_type": "code",
   "metadata": {
    "ExecuteTime": {
     "end_time": "2024-04-28T12:25:06.617193Z",
     "start_time": "2024-04-28T12:25:06.603668Z"
    }
   },
   "source": [
    "dist.entropy()"
   ],
   "outputs": [
    {
     "data": {
      "text/plain": [
       "tensor(1.2799)"
      ]
     },
     "execution_count": 6,
     "metadata": {},
     "output_type": "execute_result"
    }
   ],
   "execution_count": 6
  },
  {
   "cell_type": "code",
   "metadata": {
    "ExecuteTime": {
     "end_time": "2024-04-28T12:25:25.084734Z",
     "start_time": "2024-04-28T12:25:25.074735Z"
    }
   },
   "source": "torch.argmax(dist.probs)",
   "outputs": [
    {
     "data": {
      "text/plain": [
       "tensor(2)"
      ]
     },
     "execution_count": 10,
     "metadata": {},
     "output_type": "execute_result"
    }
   ],
   "execution_count": 10
  },
  {
   "cell_type": "code",
   "execution_count": 12,
   "metadata": {},
   "outputs": [
    {
     "data": {
      "text/plain": [
       "[0, 2, {'s': 1}, 0, 0, 0, 0, 0, 0, 0, 0, 0, 0, 0, 0, 0, 0, 0, 0, 0]"
      ]
     },
     "execution_count": 12,
     "metadata": {},
     "output_type": "execute_result"
    }
   ],
   "source": [
    "a[2] = {'s': 1}\n",
    "a"
   ]
  },
  {
   "cell_type": "code",
   "execution_count": 13,
   "metadata": {},
   "outputs": [
    {
     "data": {
      "text/plain": [
       "0"
      ]
     },
     "execution_count": 13,
     "metadata": {},
     "output_type": "execute_result"
    }
   ],
   "source": [
    "1 - True"
   ]
  },
  {
   "cell_type": "code",
   "execution_count": 2,
   "metadata": {},
   "outputs": [
    {
     "name": "stderr",
     "output_type": "stream",
     "text": [
      "C:\\Users\\20417\\AppData\\Local\\Temp\\ipykernel_23880\\1405246482.py:6: UserWarning: Implicit dimension choice for softmax has been deprecated. Change the call to include dim=X as an argument.\n",
      "  a = F.softmax(a)\n"
     ]
    },
    {
     "data": {
      "text/plain": [
       "tensor([0.0120, 0.0889, 0.2418, 0.6572])"
      ]
     },
     "execution_count": 2,
     "metadata": {},
     "output_type": "execute_result"
    }
   ],
   "source": [
    "import torch\n",
    "import torch.nn as nn\n",
    "import torch.nn.functional as F\n",
    "\n",
    "a = torch.tensor([1.,3.,4.,5.])\n",
    "a = F.softmax(a, dim=0)\n",
    "a"
   ]
  },
  {
   "cell_type": "code",
   "metadata": {
    "ExecuteTime": {
     "end_time": "2024-04-28T13:14:51.023084Z",
     "start_time": "2024-04-28T13:14:51.007067Z"
    }
   },
   "source": [
    "import torch\n",
    "a = [torch.tensor(1.), torch.tensor(2.), torch.tensor(3.)]\n",
    "a"
   ],
   "outputs": [
    {
     "data": {
      "text/plain": [
       "[tensor(1.), tensor(2.), tensor(3.)]"
      ]
     },
     "execution_count": 11,
     "metadata": {},
     "output_type": "execute_result"
    }
   ],
   "execution_count": 11
  },
  {
   "metadata": {
    "ExecuteTime": {
     "end_time": "2024-04-28T13:15:30.989102Z",
     "start_time": "2024-04-28T13:15:30.980088Z"
    }
   },
   "cell_type": "code",
   "source": [
    "b=torch.stack(a)\n",
    "b"
   ],
   "outputs": [
    {
     "data": {
      "text/plain": [
       "tensor([1., 2., 3.])"
      ]
     },
     "execution_count": 17,
     "metadata": {},
     "output_type": "execute_result"
    }
   ],
   "execution_count": 17
  },
  {
   "metadata": {
    "ExecuteTime": {
     "end_time": "2024-04-28T13:15:39.260490Z",
     "start_time": "2024-04-28T13:15:39.245489Z"
    }
   },
   "cell_type": "code",
   "source": "torch.mean(b)",
   "outputs": [
    {
     "data": {
      "text/plain": [
       "tensor(2.)"
      ]
     },
     "execution_count": 18,
     "metadata": {},
     "output_type": "execute_result"
    }
   ],
   "execution_count": 18
  },
  {
   "metadata": {
    "ExecuteTime": {
     "end_time": "2024-04-28T14:50:31.073240Z",
     "start_time": "2024-04-28T14:50:31.068001Z"
    }
   },
   "cell_type": "code",
   "source": [
    "a = (1, \"ff\", 131)\n",
    "a"
   ],
   "outputs": [
    {
     "data": {
      "text/plain": [
       "(1, 'ff', 131)"
      ]
     },
     "execution_count": 23,
     "metadata": {},
     "output_type": "execute_result"
    }
   ],
   "execution_count": 23
  },
  {
   "metadata": {
    "ExecuteTime": {
     "end_time": "2024-04-28T14:50:37.742263Z",
     "start_time": "2024-04-28T14:50:37.728824Z"
    }
   },
   "cell_type": "code",
   "source": [
    "def test(a, b, c):\n",
    "    print(a, b, c)\n",
    "test(*a)"
   ],
   "outputs": [
    {
     "name": "stdout",
     "output_type": "stream",
     "text": [
      "1 ff 131\n"
     ]
    }
   ],
   "execution_count": 24
  },
  {
   "metadata": {
    "ExecuteTime": {
     "end_time": "2024-05-18T05:30:44.435654Z",
     "start_time": "2024-05-18T05:30:44.319358Z"
    }
   },
   "cell_type": "code",
   "source": [
    "import numpy as np\n",
    "data = np.random.rand(10,2)\n",
    "data"
   ],
   "outputs": [
    {
     "data": {
      "text/plain": [
       "array([[0.42045526, 0.29282961],\n",
       "       [0.7287491 , 0.14724107],\n",
       "       [0.99776345, 0.01935276],\n",
       "       [0.13760359, 0.10056011],\n",
       "       [0.91867226, 0.52860822],\n",
       "       [0.07242198, 0.59712371],\n",
       "       [0.62211488, 0.56625599],\n",
       "       [0.24020601, 0.99749297],\n",
       "       [0.92202474, 0.20818364],\n",
       "       [0.61745516, 0.71757243]])"
      ]
     },
     "execution_count": 1,
     "metadata": {},
     "output_type": "execute_result"
    }
   ],
   "execution_count": 1
  },
  {
   "metadata": {
    "ExecuteTime": {
     "end_time": "2024-05-18T05:32:23.894010Z",
     "start_time": "2024-05-18T05:32:23.881100Z"
    }
   },
   "cell_type": "code",
   "source": "np.save('results/data.npy', data)",
   "outputs": [],
   "execution_count": 3
  },
  {
   "metadata": {
    "ExecuteTime": {
     "end_time": "2024-05-18T05:33:22.724214Z",
     "start_time": "2024-05-18T05:33:22.708614Z"
    }
   },
   "cell_type": "code",
   "source": [
    "a = np.load('results/data.npy')\n",
    "print(a)"
   ],
   "outputs": [
    {
     "name": "stdout",
     "output_type": "stream",
     "text": [
      "[[0.42045526 0.29282961]\n",
      " [0.7287491  0.14724107]\n",
      " [0.99776345 0.01935276]\n",
      " [0.13760359 0.10056011]\n",
      " [0.91867226 0.52860822]\n",
      " [0.07242198 0.59712371]\n",
      " [0.62211488 0.56625599]\n",
      " [0.24020601 0.99749297]\n",
      " [0.92202474 0.20818364]\n",
      " [0.61745516 0.71757243]]\n"
     ]
    }
   ],
   "execution_count": 4
  },
  {
   "metadata": {},
   "cell_type": "code",
   "outputs": [],
   "execution_count": null,
   "source": ""
  }
 ],
 "metadata": {
  "kernelspec": {
   "display_name": "rlnet",
   "language": "python",
   "name": "python3"
  },
  "language_info": {
   "codemirror_mode": {
    "name": "ipython",
    "version": 3
   },
   "file_extension": ".py",
   "mimetype": "text/x-python",
   "name": "python",
   "nbconvert_exporter": "python",
   "pygments_lexer": "ipython3",
   "version": "3.8.19"
  }
 },
 "nbformat": 4,
 "nbformat_minor": 2
}
