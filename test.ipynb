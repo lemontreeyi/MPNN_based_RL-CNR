{
 "cells": [
  {
   "cell_type": "code",
   "execution_count": 10,
   "metadata": {},
   "outputs": [
    {
     "data": {
      "text/plain": [
       "(tensor([[ 6,  4, 10, 12],\n",
       "         [ 6,  3, 10, 12]]),\n",
       " tensor([[ 6,  4, 10, 12],\n",
       "         [ 6,  3, 10, 12]]))"
      ]
     },
     "execution_count": 10,
     "metadata": {},
     "output_type": "execute_result"
    }
   ],
   "source": [
    "import torch\n",
    "from torch_scatter import segment_sum_coo, scatter_add\n",
    "\n",
    "m = torch.tensor([\n",
    "    [1,2,3,4],\n",
    "    [5,1,7,8],\n",
    "    [1,2,3,4],\n",
    "    [5,2,7,8],\n",
    "])\n",
    "m2 = torch.tensor([1,2,3,4])\n",
    "num_edges = 2\n",
    "M = torch.zeros(num_edges, 4)\n",
    "neighbours_id = torch.tensor([0, 1,1,0])\n",
    "M = segment_sum_coo(m, neighbours_id, dim_size=num_edges)\n",
    "M2 = scatter_add(m, neighbours_id, dim=0)\n",
    "M, M2\n"
   ]
  },
  {
   "cell_type": "code",
   "execution_count": 12,
   "metadata": {},
   "outputs": [
    {
     "data": {
      "text/plain": [
       "tensor([[-1.5921e+00, -8.7425e-01,  1.3771e+00,  ...,  8.5527e-01,\n",
       "          2.9093e+00, -4.6996e-01],\n",
       "        [ 1.3092e+00,  1.3722e+00, -3.7498e-01,  ..., -7.1865e-01,\n",
       "         -3.8048e-01,  3.0595e-01],\n",
       "        [-5.1927e-01,  1.9389e-01,  4.5347e-01,  ..., -6.8693e-01,\n",
       "          7.4255e-01, -7.4074e-01],\n",
       "        ...,\n",
       "        [ 6.5004e-02, -1.7380e+00,  1.9732e+00,  ..., -5.9615e-01,\n",
       "         -1.0426e-01,  3.0060e-03],\n",
       "        [-6.8694e-01, -1.7107e+00,  9.2123e-01,  ..., -7.4512e-01,\n",
       "         -6.9263e-02, -4.8492e-05],\n",
       "        [-5.2986e-01,  3.3781e-01, -3.5487e-02,  ..., -1.3438e+00,\n",
       "          2.8531e-01, -1.2031e-01]])"
      ]
     },
     "execution_count": 12,
     "metadata": {},
     "output_type": "execute_result"
    }
   ],
   "source": [
    "m = torch.randn(84, 20)\n",
    "m"
   ]
  },
  {
   "cell_type": "code",
   "execution_count": 22,
   "metadata": {},
   "outputs": [
    {
     "data": {
      "text/plain": [
       "tensor([0, 0, 0, 0, 0, 0, 0, 0, 0, 0, 0, 0, 0, 0, 0, 0, 0, 0, 0, 0, 0, 1, 1, 1,\n",
       "        1, 1, 1, 1, 1, 1, 1, 1, 1, 1, 1, 1, 1, 1, 1, 1, 1, 1, 2, 2, 2, 2, 2, 2,\n",
       "        2, 2, 2, 2, 2, 2, 2, 2, 2, 2, 2, 2, 2, 2, 2, 3, 3, 3, 3, 3, 3, 3, 3, 3,\n",
       "        3, 3, 3, 3, 3, 3, 3, 3, 3, 3, 3, 3])"
      ]
     },
     "execution_count": 22,
     "metadata": {},
     "output_type": "execute_result"
    }
   ],
   "source": [
    "id = torch.tensor(\n",
    "    [0] * 21 + [1] * 21 + [2] * 21 + [3] * 21\n",
    ")\n",
    "id"
   ]
  },
  {
   "cell_type": "code",
   "execution_count": 28,
   "metadata": {},
   "outputs": [
    {
     "data": {
      "text/plain": [
       "(tensor([[-4.3014, -2.8717, -7.9633, -2.6829,  2.1359,  2.9311, -6.9749,  0.5228,\n",
       "           3.0825, -0.9202,  3.8353,  4.9282,  1.0350,  4.9087,  0.8907,  2.7498,\n",
       "           0.6595, -6.0511,  1.9218, -1.9623],\n",
       "         [ 1.0718,  8.1395, -0.1450, -9.8817,  1.9251,  6.7179, -5.1759,  0.8303,\n",
       "           2.7709,  4.3140, -2.4930, -4.5192,  6.6215,  5.4317, -5.9036, -8.1799,\n",
       "          -0.5017, -1.2716,  2.3459,  1.1630],\n",
       "         [-0.5160, -2.3502,  2.4410,  8.2419,  0.1245, -0.0914, -4.1413,  6.6617,\n",
       "          -3.7516,  1.3575,  3.0944,  0.0844,  0.0474,  0.8953, -3.6463, -8.2948,\n",
       "           0.8873, -4.9363,  6.0158,  2.0046],\n",
       "         [ 8.8402, -1.4754,  4.7718, -4.3561,  0.6216, -3.8176,  5.8593, -2.6281,\n",
       "           0.5470,  0.0342,  0.5431,  0.9925,  4.2268,  1.9970, -5.1925,  3.1243,\n",
       "          -0.4445, -2.0141, -0.4896, 13.1812]]),\n",
       " torch.Size([4, 20]))"
      ]
     },
     "execution_count": 28,
     "metadata": {},
     "output_type": "execute_result"
    }
   ],
   "source": [
    "out = scatter_add(m, id, dim=0)\n",
    "out, out.shape"
   ]
  },
  {
   "cell_type": "code",
   "execution_count": 29,
   "metadata": {},
   "outputs": [
    {
     "data": {
      "text/plain": [
       "tensor([  5.0947,   1.4422,  -0.8955,  -8.6788,   4.8070,   5.7400, -10.4328,\n",
       "          5.3867,   2.6487,   4.7854,   4.9798,   1.4859,  11.9306,  13.2327,\n",
       "        -13.8517, -10.6005,   0.6006, -14.2732,   9.7940,  14.3864])"
      ]
     },
     "execution_count": 29,
     "metadata": {},
     "output_type": "execute_result"
    }
   ],
   "source": [
    "out = torch.sum(out, dim=0)\n",
    "out"
   ]
  },
  {
   "cell_type": "code",
   "execution_count": 1,
   "metadata": {},
   "outputs": [],
   "source": [
    "import torch"
   ]
  },
  {
   "cell_type": "code",
   "execution_count": 3,
   "metadata": {},
   "outputs": [
    {
     "data": {
      "text/plain": [
       "torch.Size([10, 7])"
      ]
     },
     "execution_count": 3,
     "metadata": {},
     "output_type": "execute_result"
    }
   ],
   "source": [
    "a = torch.randn(10, 3)\n",
    "b = torch.randn(10, 4)\n",
    "torch.cat([a,b], dim=1).shape"
   ]
  },
  {
   "cell_type": "code",
   "execution_count": 1,
   "metadata": {},
   "outputs": [],
   "source": [
    "import torch\n",
    "from torch.distributions import Categorical"
   ]
  },
  {
   "cell_type": "code",
   "execution_count": 8,
   "metadata": {},
   "outputs": [],
   "source": [
    "r = torch.Tensor([\n",
    "    [0.1],\n",
    "    [0.2],\n",
    "    [0.4],\n",
    "    [0.3],\n",
    "])\n"
   ]
  },
  {
   "cell_type": "code",
   "execution_count": 10,
   "metadata": {},
   "outputs": [
    {
     "data": {
      "text/plain": [
       "Categorical(probs: torch.Size([4]))"
      ]
     },
     "execution_count": 10,
     "metadata": {},
     "output_type": "execute_result"
    }
   ],
   "source": [
    "r = r.flatten()\n",
    "dist = Categorical(r)\n",
    "dist"
   ]
  },
  {
   "cell_type": "code",
   "execution_count": 11,
   "metadata": {},
   "outputs": [
    {
     "data": {
      "text/plain": [
       "tensor(-2.3026)"
      ]
     },
     "execution_count": 11,
     "metadata": {},
     "output_type": "execute_result"
    }
   ],
   "source": [
    "dist.log_prob(torch.tensor(0))"
   ]
  },
  {
   "cell_type": "code",
   "execution_count": 14,
   "metadata": {},
   "outputs": [
    {
     "data": {
      "text/plain": [
       "tensor(1.2799)"
      ]
     },
     "execution_count": 14,
     "metadata": {},
     "output_type": "execute_result"
    }
   ],
   "source": [
    "dist.entropy()"
   ]
  },
  {
   "cell_type": "code",
   "execution_count": 15,
   "metadata": {},
   "outputs": [
    {
     "data": {
      "text/plain": [
       "tensor(2)"
      ]
     },
     "execution_count": 15,
     "metadata": {},
     "output_type": "execute_result"
    }
   ],
   "source": [
    "dist.sample()"
   ]
  },
  {
   "cell_type": "code",
   "execution_count": 12,
   "metadata": {},
   "outputs": [
    {
     "data": {
      "text/plain": [
       "[0, 2, {'s': 1}, 0, 0, 0, 0, 0, 0, 0, 0, 0, 0, 0, 0, 0, 0, 0, 0, 0]"
      ]
     },
     "execution_count": 12,
     "metadata": {},
     "output_type": "execute_result"
    }
   ],
   "source": [
    "a[2] = {'s': 1}\n",
    "a"
   ]
  },
  {
   "cell_type": "code",
   "execution_count": 13,
   "metadata": {},
   "outputs": [
    {
     "data": {
      "text/plain": [
       "0"
      ]
     },
     "execution_count": 13,
     "metadata": {},
     "output_type": "execute_result"
    }
   ],
   "source": [
    "1 - True"
   ]
  },
  {
   "cell_type": "code",
   "execution_count": null,
   "metadata": {},
   "outputs": [],
   "source": []
  }
 ],
 "metadata": {
  "kernelspec": {
   "display_name": "rlnet",
   "language": "python",
   "name": "python3"
  },
  "language_info": {
   "codemirror_mode": {
    "name": "ipython",
    "version": 3
   },
   "file_extension": ".py",
   "mimetype": "text/x-python",
   "name": "python",
   "nbconvert_exporter": "python",
   "pygments_lexer": "ipython3",
   "version": "3.8.19"
  }
 },
 "nbformat": 4,
 "nbformat_minor": 2
}
